{
 "cells": [
  {
   "cell_type": "code",
   "execution_count": 1,
   "id": "71a25574",
   "metadata": {},
   "outputs": [],
   "source": [
    "import numpy as np\n",
    "from sympy import *\n",
    "from matplotlib import pyplot as plt"
   ]
  },
  {
   "cell_type": "markdown",
   "id": "a4e4ca8d",
   "metadata": {},
   "source": [
    "# 1D Bar Solution"
   ]
  },
  {
   "cell_type": "code",
   "execution_count": 2,
   "id": "c315a6df",
   "metadata": {},
   "outputs": [],
   "source": [
    "bc = 1  # constrain (or Boundary condition) at node 1\n",
    "E = 70000   # Youngs Modulus\n",
    "A = 300*40   # Cross Section Area\n",
    "L = 1500  # Length of Bar\n",
    "F = 4000   # Force at the tip of Bar\n",
    "numElem = 4  # Number of Elements"
   ]
  },
  {
   "cell_type": "code",
   "execution_count": 3,
   "id": "5ffbb13b",
   "metadata": {},
   "outputs": [
    {
     "data": {
      "text/plain": [
       "[[1, 2], [2, 3], [3, 4], [4, 5]]"
      ]
     },
     "execution_count": 3,
     "metadata": {},
     "output_type": "execute_result"
    }
   ],
   "source": [
    "le = L/numElem\n",
    "\n",
    "elem = []\n",
    "for i in range(numElem):\n",
    "    elem.append([i+1,i+2])\n",
    "elem"
   ]
  },
  {
   "cell_type": "code",
   "execution_count": 4,
   "id": "9a5e2f05",
   "metadata": {},
   "outputs": [
    {
     "data": {
      "text/plain": [
       "(matrix([[1 - x/Le, x/Le]], dtype=object),\n",
       " matrix([[-1/Le, 1/Le]], dtype=object))"
      ]
     },
     "execution_count": 4,
     "metadata": {},
     "output_type": "execute_result"
    }
   ],
   "source": [
    "x = Symbol('x')\n",
    "Le = Symbol('Le')\n",
    "\n",
    "# Shape Function Matrix\n",
    "shape = [\n",
    "    (1-x/Le),\n",
    "    (x/Le)\n",
    "]\n",
    "\n",
    "# Differentiated Shape Function Matrix\n",
    "shape_d = []\n",
    "for i in shape:\n",
    "    shape_d.append(diff(i, x))\n",
    "\n",
    "shape = np.matrix(shape)\n",
    "shape_d = np.matrix(shape_d)\n",
    "\n",
    "shape, shape_d"
   ]
  },
  {
   "cell_type": "code",
   "execution_count": 5,
   "id": "70460b21",
   "metadata": {},
   "outputs": [
    {
     "data": {
      "text/plain": [
       "matrix([[1/Le, -1/Le],\n",
       "        [-1/Le, 1/Le]], dtype=object)"
      ]
     },
     "execution_count": 5,
     "metadata": {},
     "output_type": "execute_result"
    }
   ],
   "source": [
    "# Creating The Local Stiffness Matrix\n",
    "\n",
    "k = np.matmul(shape_d.T, shape_d)\n",
    "for i in range(k.shape[0]):\n",
    "    for j in range(k.shape[1]):\n",
    "        k[i,j] = simplify(integrate(k[i,j], x).subs(x, Le))\n",
    "k"
   ]
  },
  {
   "cell_type": "code",
   "execution_count": 6,
   "id": "a8f2e9d5",
   "metadata": {},
   "outputs": [],
   "source": [
    "K = np.zeros([len(elem)+1, len(elem)+1])  # Creating initially zero matrix for global stiffness matrix\n",
    "\n",
    "for i in elem:\n",
    "    temp = k.copy()\n",
    "    for a in range(temp.shape[0]):\n",
    "        for j in range(temp.shape[1]):\n",
    "            temp[a,j] = temp[a,j].subs(Le, le)\n",
    "    K[i[0]-1:i[1], i[0]-1:i[1]] = K[i[0]-1:i[1], i[0]-1:i[1]] + (E*A) * temp"
   ]
  },
  {
   "cell_type": "code",
   "execution_count": 7,
   "id": "8c44f2de",
   "metadata": {},
   "outputs": [],
   "source": [
    "# Function to apply Boundary Conditions\n",
    "def BC(K, bc):\n",
    "    newK = []\n",
    "    for i in range(len(K)):\n",
    "        temp = []\n",
    "        for j in range(len(K[0])):\n",
    "            if not(i==bc or j==bc):\n",
    "                temp.append(K[i][j])\n",
    "        if temp != []:\n",
    "            newK.append(temp)\n",
    "    return np.matrix(newK)"
   ]
  },
  {
   "cell_type": "code",
   "execution_count": 8,
   "id": "2a76f369",
   "metadata": {},
   "outputs": [],
   "source": [
    "# Global Stiffness Matrix After Applying Boundary Conditions\n",
    "Kc = BC(K, bc-1)"
   ]
  },
  {
   "cell_type": "code",
   "execution_count": 9,
   "id": "876f72d3",
   "metadata": {},
   "outputs": [],
   "source": [
    "# Creating Force Vector\n",
    "f = np.zeros([len(Kc), 1])\n",
    "f[-1] = F"
   ]
  },
  {
   "cell_type": "code",
   "execution_count": 10,
   "id": "ae6ddd57",
   "metadata": {},
   "outputs": [
    {
     "data": {
      "text/plain": [
       "matrix([[0.        ],\n",
       "        [0.00178571],\n",
       "        [0.00357143],\n",
       "        [0.00535714],\n",
       "        [0.00714286]])"
      ]
     },
     "execution_count": 10,
     "metadata": {},
     "output_type": "execute_result"
    }
   ],
   "source": [
    "# Obtaining the Nodal Displacement Vector\n",
    "u = np.linalg.solve(Kc, f)\n",
    "u = list(u)\n",
    "u.insert(0, [0])\n",
    "u = np.matrix(u)\n",
    "u"
   ]
  },
  {
   "cell_type": "code",
   "execution_count": 11,
   "id": "e1d2ad1e",
   "metadata": {},
   "outputs": [
    {
     "data": {
      "text/plain": [
       "matrix([[-4.00000000e+03],\n",
       "        [ 0.00000000e+00],\n",
       "        [ 1.81898940e-12],\n",
       "        [-9.47686374e-13],\n",
       "        [ 4.00000000e+03]])"
      ]
     },
     "execution_count": 11,
     "metadata": {},
     "output_type": "execute_result"
    }
   ],
   "source": [
    "# Obtaining the Full force Vector including the Reaction Force\n",
    "Force = np.matmul(K, u)\n",
    "Force"
   ]
  },
  {
   "cell_type": "code",
   "execution_count": 12,
   "id": "a941fc7b",
   "metadata": {},
   "outputs": [
    {
     "data": {
      "text/plain": [
       "[matrix([[4.76190476190476e-6]], dtype=object),\n",
       " matrix([[4.76190476190476e-6]], dtype=object),\n",
       " matrix([[4.76190476190476e-6]], dtype=object),\n",
       " matrix([[4.76190476190476e-6]], dtype=object)]"
      ]
     },
     "execution_count": 12,
     "metadata": {},
     "output_type": "execute_result"
    }
   ],
   "source": [
    "# Calculation the Strains using the nodal displacement vector\n",
    "strain = []\n",
    "for i in elem:\n",
    "    temp = []\n",
    "    for a in range(shape_d.size):\n",
    "        temp.append(shape_d[0,a].subs(Le, le))\n",
    "    temp = np.matrix(temp)   \n",
    "    strain.append(np.matmul(temp, u[i[0]-1:i[1], 0]))\n",
    "strain"
   ]
  },
  {
   "cell_type": "code",
   "execution_count": 13,
   "id": "e45398ea",
   "metadata": {},
   "outputs": [
    {
     "data": {
      "text/plain": [
       "array([[[0.333333333333333]],\n",
       "\n",
       "       [[0.333333333333333]],\n",
       "\n",
       "       [[0.333333333333333]],\n",
       "\n",
       "       [[0.333333333333333]]], dtype=object)"
      ]
     },
     "execution_count": 13,
     "metadata": {},
     "output_type": "execute_result"
    }
   ],
   "source": [
    "# Calculation Stress\n",
    "stress = E * np.array(strain)\n",
    "stress"
   ]
  },
  {
   "cell_type": "code",
   "execution_count": 14,
   "id": "976eba26",
   "metadata": {},
   "outputs": [
    {
     "name": "stdout",
     "output_type": "stream",
     "text": [
      "Hand Calculation for Stress: 0.007142857142857143\n",
      "FEM stress: 0.00714285714285714\n",
      "% Error: 3.642919299551295e-14\n"
     ]
    }
   ],
   "source": [
    "u_act = F*L/(E*A)\n",
    "\n",
    "print('Hand Caluclation:', u_act)\n",
    "print('FEM:', u[-1,0])\n",
    "print('% Error:', (u_act-u[-1,0])*100/u_act)"
   ]
  },
  {
   "cell_type": "code",
   "execution_count": 15,
   "id": "92f20426",
   "metadata": {},
   "outputs": [
    {
     "data": {
      "text/plain": [
       "<matplotlib.legend.Legend at 0x25da6ae6110>"
      ]
     },
     "execution_count": 15,
     "metadata": {},
     "output_type": "execute_result"
    },
    {
     "data": {
      "image/png": "[encoded data removed]",
      "text/plain": [
       "<Figure size 640x480 with 1 Axes>"
      ]
     },
     "metadata": {},
     "output_type": "display_data"
    }
   ],
   "source": [
    "Multiplier = 1*10**4\n",
    "x = [[0]]\n",
    "te = 0\n",
    "for i in range(len(u)-1):\n",
    "    te = te + le\n",
    "    x.append([te])\n",
    "x = np.matrix(x)\n",
    "\n",
    "y = [[0]]\n",
    "te = 0\n",
    "for i in range(len(u)-1):\n",
    "    te = te + le + u[i+1,0]*Multiplier\n",
    "    y.append([te])\n",
    "y = np.matrix(y)\n",
    "\n",
    "\n",
    "plt.plot(y, np.zeros([y.size,1]), marker='o', color='tab:blue', markersize=10, label=f'After Loading ({Multiplier}x Deflection)')\n",
    "ind = 0\n",
    "for i in zip(y,np.zeros([y.size,1])):\n",
    "    plt.annotate('(%.4f)'% (u[ind,0]), xy=i, xytext=(y[ind],0.005), color='tab:blue')\n",
    "    ind = ind+1\n",
    "\n",
    "plt.plot(x, np.zeros([x.size,1]), marker='o', color='tab:orange', label='Before Loading')\n",
    "plt.legend()"
   ]
  }
 ],
 "metadata": {
  "kernelspec": {
   "display_name": "Python 3 (ipykernel)",
   "language": "python",
   "name": "python3"
  },
  "language_info": {
   "codemirror_mode": {
    "name": "ipython",
    "version": 3
   },
   "file_extension": ".py",
   "mimetype": "text/x-python",
   "name": "python",
   "nbconvert_exporter": "python",
   "pygments_lexer": "ipython3",
   "version": "3.11.0"
  }
 },
 "nbformat": 4,
 "nbformat_minor": 5
}
