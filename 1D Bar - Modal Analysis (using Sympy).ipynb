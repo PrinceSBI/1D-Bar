{
 "cells": [
  {
   "cell_type": "code",
   "execution_count": 1,
   "id": "71a25574",
   "metadata": {},
   "outputs": [],
   "source": [
    "import numpy as np\n",
    "from sympy import *\n",
    "from matplotlib import pyplot as plt"
   ]
  },
  {
   "cell_type": "markdown",
   "id": "a4e4ca8d",
   "metadata": {},
   "source": [
    "# 1D Bar Solution"
   ]
  },
  {
   "cell_type": "code",
   "execution_count": 2,
   "id": "c315a6df",
   "metadata": {},
   "outputs": [],
   "source": [
    "bc = 1  # constrain (or Boundary condition) at node 1\n",
    "rho = 2.7*10**(-9) # Density of the Bar\n",
    "E = 70000   # Youngs Modulus\n",
    "A = 300*40   # Cross Section Area\n",
    "L = 1500  # Length of Bar\n",
    "F = 4000   # Force at the tip of Bar\n",
    "numElem = 4  # Number of Elements"
   ]
  },
  {
   "cell_type": "code",
   "execution_count": 3,
   "id": "5ffbb13b",
   "metadata": {},
   "outputs": [
    {
     "data": {
      "text/plain": [
       "[[1, 2], [2, 3], [3, 4], [4, 5]]"
      ]
     },
     "execution_count": 3,
     "metadata": {},
     "output_type": "execute_result"
    }
   ],
   "source": [
    "le = L/numElem\n",
    "\n",
    "elem = []\n",
    "for i in range(numElem):\n",
    "    elem.append([i+1,i+2])\n",
    "elem"
   ]
  },
  {
   "cell_type": "code",
   "execution_count": 4,
   "id": "9a5e2f05",
   "metadata": {},
   "outputs": [
    {
     "data": {
      "text/plain": [
       "(matrix([[1 - x/Le, x/Le]], dtype=object),\n",
       " matrix([[-1/Le, 1/Le]], dtype=object))"
      ]
     },
     "execution_count": 4,
     "metadata": {},
     "output_type": "execute_result"
    }
   ],
   "source": [
    "x = Symbol('x')\n",
    "Le = Symbol('Le')\n",
    "\n",
    "# Shape Function Matrix\n",
    "shape = [\n",
    "    (1-x/Le),\n",
    "    (x/Le)\n",
    "]\n",
    "\n",
    "# Differentiated Shape Function Matrix\n",
    "shape_d = []\n",
    "for i in shape:\n",
    "    shape_d.append(diff(i, x))\n",
    "\n",
    "shape = np.matrix(shape)\n",
    "shape_d = np.matrix(shape_d)\n",
    "\n",
    "shape, shape_d"
   ]
  },
  {
   "cell_type": "code",
   "execution_count": 5,
   "id": "f21c5dfd",
   "metadata": {},
   "outputs": [
    {
     "data": {
      "text/plain": [
       "matrix([[Le/3, Le/6],\n",
       "        [Le/6, Le/3]], dtype=object)"
      ]
     },
     "execution_count": 5,
     "metadata": {},
     "output_type": "execute_result"
    }
   ],
   "source": [
    "# Creating The Local Mass Matrix\n",
    "m = np.matmul(shape.T, shape)\n",
    "for i in range(m.shape[0]):\n",
    "    for j in range(m.shape[1]):\n",
    "        m[i,j] = simplify(integrate(m[i,j], x).subs(x, Le))\n",
    "m"
   ]
  },
  {
   "cell_type": "code",
   "execution_count": 6,
   "id": "70460b21",
   "metadata": {},
   "outputs": [
    {
     "data": {
      "text/plain": [
       "matrix([[1/Le, -1/Le],\n",
       "        [-1/Le, 1/Le]], dtype=object)"
      ]
     },
     "execution_count": 6,
     "metadata": {},
     "output_type": "execute_result"
    }
   ],
   "source": [
    "# Creating The Local Stiffness Matrix\n",
    "k = np.matmul(shape_d.T, shape_d)\n",
    "for i in range(k.shape[0]):\n",
    "    for j in range(k.shape[1]):\n",
    "        k[i,j] = simplify(integrate(k[i,j], x).subs(x, Le))\n",
    "k"
   ]
  },
  {
   "cell_type": "code",
   "execution_count": 7,
   "id": "a8f2e9d5",
   "metadata": {},
   "outputs": [],
   "source": [
    "K = np.zeros([len(elem)+1, len(elem)+1])  # Creating initially zero matrix for global Stiffness matrix\n",
    "M = np.zeros([len(elem)+1, len(elem)+1])  # Creating initially zero matrix for global Mass matrix\n",
    "\n",
    "for i in elem:\n",
    "    temp1 = k.copy()\n",
    "    for a in range(temp1.shape[0]):\n",
    "        for j in range(temp1.shape[1]):\n",
    "            temp1[a,j] = temp1[a,j].subs(Le, le)\n",
    "    K[i[0]-1:i[1], i[0]-1:i[1]] = K[i[0]-1:i[1], i[0]-1:i[1]] + (E*A) * temp1\n",
    "    \n",
    "    temp2 = m.copy()\n",
    "    for a in range(temp2.shape[0]):\n",
    "        for j in range(temp2.shape[1]):\n",
    "            temp2[a,j] = temp2[a,j].subs(Le, le)\n",
    "    M[i[0]-1:i[1], i[0]-1:i[1]] = M[i[0]-1:i[1], i[0]-1:i[1]] + (rho*A) * temp2"
   ]
  },
  {
   "cell_type": "code",
   "execution_count": 8,
   "id": "8c44f2de",
   "metadata": {},
   "outputs": [],
   "source": [
    "# Function to apply Boundary Conditions\n",
    "def BC(K, bc):\n",
    "    newK = []\n",
    "    for i in range(len(K)):\n",
    "        temp = []\n",
    "        for j in range(len(K[0])):\n",
    "            if not(i==bc or j==bc):\n",
    "                temp.append(K[i][j])\n",
    "        if temp != []:\n",
    "            newK.append(temp)\n",
    "    return np.matrix(newK)"
   ]
  },
  {
   "cell_type": "code",
   "execution_count": 9,
   "id": "2a76f369",
   "metadata": {},
   "outputs": [],
   "source": [
    "# Global Stiffness Matrix After Applying Boundary Conditions\n",
    "Kc = BC(K, bc-1)\n",
    "Mc = BC(M, bc-1)"
   ]
  },
  {
   "cell_type": "code",
   "execution_count": 10,
   "id": "876f72d3",
   "metadata": {},
   "outputs": [],
   "source": [
    "Lam, mode = np.linalg.eig(np.matmul(np.linalg.inv(Mc), Kc))"
   ]
  },
  {
   "cell_type": "code",
   "execution_count": 11,
   "id": "0052e536",
   "metadata": {},
   "outputs": [
    {
     "data": {
      "text/plain": [
       "array([ 854.08798586, 2694.34013802, 4894.3552502 , 7077.66688447])"
      ]
     },
     "execution_count": 11,
     "metadata": {},
     "output_type": "execute_result"
    }
   ],
   "source": [
    "w = Lam**0.5\n",
    "freq = np.sort(w/(2*np.pi))\n",
    "freq"
   ]
  },
  {
   "cell_type": "code",
   "execution_count": 12,
   "id": "c69ccd56",
   "metadata": {},
   "outputs": [
    {
     "data": {
      "text/plain": [
       "(848.6251286955259, 2545.8753860865777, 4243.12564347763, 5940.375900868681)"
      ]
     },
     "execution_count": 12,
     "metadata": {},
     "output_type": "execute_result"
    }
   ],
   "source": [
    "def barFreq(n):\n",
    "    return ((2*n-1)/(4*L)) * (E/rho)**0.5\n",
    "\n",
    "n = 1\n",
    "f1 = barFreq(1)\n",
    "\n",
    "n = 2\n",
    "f2 = barFreq(2)\n",
    "\n",
    "n = 3\n",
    "f3 = barFreq(3)\n",
    "\n",
    "n = 4\n",
    "f4 = barFreq(4)\n",
    "\n",
    "f1, f2, f3, f4"
   ]
  },
  {
   "cell_type": "code",
   "execution_count": 13,
   "id": "ddba2e1b",
   "metadata": {},
   "outputs": [
    {
     "name": "stdout",
     "output_type": "stream",
     "text": [
      "Actual Frequencies: [ 848.6251287  2545.87538609 4243.12564348]\n",
      "FEM Frequencies: [ 854.08798586 2694.34013802 4894.3552502 ]\n",
      "% Error: [ -0.64373031  -5.83157969 -15.34787469]\n"
     ]
    }
   ],
   "source": [
    "act_freq = [barFreq(1), barFreq(2), barFreq(3)]\n",
    "fem_freq = []\n",
    "ind = 0\n",
    "for i in range(len(freq)):\n",
    "    fem_freq.append(freq[i])\n",
    "    ind = ind + 1\n",
    "    if ind==3:\n",
    "        break\n",
    "    \n",
    "act_freq = np.array(act_freq)\n",
    "fem_freq = np.array(fem_freq)\n",
    "\n",
    "print('Actual Frequencies:', act_freq)\n",
    "print('FEM Frequencies:', fem_freq)\n",
    "print('% Error:', (act_freq-fem_freq)*100/act_freq)"
   ]
  },
  {
   "cell_type": "code",
   "execution_count": null,
   "id": "72de4e85",
   "metadata": {},
   "outputs": [],
   "source": []
  },
  {
   "cell_type": "code",
   "execution_count": 14,
   "id": "5bb97d20",
   "metadata": {},
   "outputs": [
    {
     "data": {
      "text/plain": [
       "<matplotlib.legend.Legend at 0x28d74ab3e10>"
      ]
     },
     "execution_count": 14,
     "metadata": {},
     "output_type": "execute_result"
    },
    {
     "data": {
      "image/png": "[encoded data removed]",
      "text/plain": [
       "<Figure size 640x480 with 1 Axes>"
      ]
     },
     "metadata": {},
     "output_type": "display_data"
    }
   ],
   "source": [
    "ModeNo = 1\n",
    "\n",
    "Multiplier = 1*10**2\n",
    "x = []\n",
    "te = 0\n",
    "for i in mode[:,ModeNo-1]:\n",
    "    te = te + le\n",
    "    x.append([te])\n",
    "x = np.matrix(x)\n",
    "\n",
    "y = []\n",
    "te = 0\n",
    "for i in mode[:,ModeNo-1]:\n",
    "    te = te + le\n",
    "    y.append([te])\n",
    "y = np.matrix(y)+mode[:,ModeNo-1]*Multiplier\n",
    "\n",
    "plt.plot(y, np.zeros([y.size,1]), marker='o', color='tab:blue', markersize=10, label=f'Mode shape {ModeNo} ({Multiplier}x Deflection)')\n",
    "\n",
    "plt.plot(x, np.zeros([x.size,1]), marker='o', color='tab:orange', label='Before Deflection')\n",
    "plt.legend()"
   ]
  },
  {
   "cell_type": "code",
   "execution_count": null,
   "id": "490b69fd",
   "metadata": {},
   "outputs": [],
   "source": []
  }
 ],
 "metadata": {
  "kernelspec": {
   "display_name": "Python 3 (ipykernel)",
   "language": "python",
   "name": "python3"
  },
  "language_info": {
   "codemirror_mode": {
    "name": "ipython",
    "version": 3
   },
   "file_extension": ".py",
   "mimetype": "text/x-python",
   "name": "python",
   "nbconvert_exporter": "python",
   "pygments_lexer": "ipython3",
   "version": "3.11.0"
  }
 },
 "nbformat": 4,
 "nbformat_minor": 5
}
